{
 "cells": [
  {
   "cell_type": "markdown",
   "id": "3394309a",
   "metadata": {},
   "source": [
    "# Write a Python program to print the even numbers from a given list."
   ]
  },
  {
   "cell_type": "code",
   "execution_count": 4,
   "id": "99764586",
   "metadata": {},
   "outputs": [
    {
     "name": "stdout",
     "output_type": "stream",
     "text": [
      "{1, 2, 3, 4, 5, 6, 7, 8, 9, 10, 11, 13, 15, 17, 19, 24, 26, 28, 30, 32}\n",
      "\n",
      "These are the even numbers in the given list:\n",
      "\n",
      "2 4 6 8 10 24 26 28 30 32 "
     ]
    }
   ],
   "source": [
    "list = {1, 2, 3, 4, 5, 6, 7, 8, 9, 10, 11, 13, 15, 17, 19, 24, 26, 28, 30, 32}\n",
    "\n",
    "print(list)\n",
    "print(\"\\nThese are the even numbers in the given list:\\n\")\n",
    "for i in list:\n",
    "    if i % 2 == 0:\n",
    "        print(i, end=\" \")"
   ]
  },
  {
   "cell_type": "markdown",
   "id": "e1935a9f",
   "metadata": {},
   "source": [
    "# Generate a Python list of all the even numbers between 10 to 60."
   ]
  },
  {
   "cell_type": "code",
   "execution_count": 7,
   "id": "336d4382",
   "metadata": {},
   "outputs": [
    {
     "name": "stdout",
     "output_type": "stream",
     "text": [
      "\n",
      "\n",
      "These are the even numbers between 10 and 60:\n",
      "\n",
      "[10, 12, 14, 16, 18, 20, 22, 24, 26, 28, 30, 32, 34, 36, 38, 40, 42, 44, 46, 48, 50, 52, 54, 56, 58]\n"
     ]
    }
   ],
   "source": [
    "even=[]\n",
    "\n",
    "for x in range(10, 60):\n",
    "    if x % 2 == 0:\n",
    "        even.append(x)\n",
    "        \n",
    "print(\"\\n\\nThese are the even numbers between 10 and 60:\\n\")\n",
    "print(even)"
   ]
  },
  {
   "cell_type": "markdown",
   "id": "25a9f93e",
   "metadata": {},
   "source": [
    "# Write a program to create a function show_feu_professor() using the following conditions: \n",
    "\n",
    "# It should accept the professor’s name and salary and display both.\n",
    "# If the salary is missing in the function call then assign default value 70000 to salary.\n",
    "\n",
    "# Expected output: Display of at least 5 FEU professors with their salaries."
   ]
  },
  {
   "cell_type": "code",
   "execution_count": 8,
   "id": "e0bb2f5e",
   "metadata": {},
   "outputs": [
    {
     "name": "stdout",
     "output_type": "stream",
     "text": [
      "Name of professor: Brian Cabuenas\n",
      "Salary: 100000\n",
      "Name of professor: Jeffrey Alvarina\n",
      "Salary: \n",
      "Name of professor: Marielle Gidalangga\n",
      "Salary: 85000\n",
      "Name of professor: May Anne Tirado\n",
      "Salary: 90000\n",
      "Name of professor: Mycah Chavez\n",
      "Salary: 130000\n",
      "Professor: Brian Cabuenas   Salary: 100000 \n",
      "\n",
      "Professor: Jeffrey Alvarina   Salary: 70000 \n",
      "\n",
      "Professor: Marielle Gidalangga   Salary: 85000 \n",
      "\n",
      "Professor: May Anne Tirado   Salary: 90000 \n",
      "\n",
      "Professor: Mycah Chavez   Salary: 130000 \n",
      "\n"
     ]
    }
   ],
   "source": [
    "def show_feu_professor(professor, salary):\n",
    "    professor = []\n",
    "    salary = []\n",
    "\n",
    "    for a in range(5):\n",
    "        professor.append(input(\"Name of professor: \"))\n",
    "        salary.append(input(\"Salary: \") or 70000)\n",
    "\n",
    "    for b in range(5):\n",
    "        print(\"Professor:\",professor[b], end=\"   \")\n",
    "        print(\"Salary:\",salary[b], \"\\n\")\n",
    "\n",
    "name = []\n",
    "wage = []\n",
    "\n",
    "show_feu_professor(name, wage)"
   ]
  }
 ],
 "metadata": {
  "kernelspec": {
   "display_name": "Python 3 (ipykernel)",
   "language": "python",
   "name": "python3"
  },
  "language_info": {
   "codemirror_mode": {
    "name": "ipython",
    "version": 3
   },
   "file_extension": ".py",
   "mimetype": "text/x-python",
   "name": "python",
   "nbconvert_exporter": "python",
   "pygments_lexer": "ipython3",
   "version": "3.11.5"
  }
 },
 "nbformat": 4,
 "nbformat_minor": 5
}
