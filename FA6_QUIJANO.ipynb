{
 "cells": [
  {
   "cell_type": "code",
   "execution_count": 3,
   "id": "c9938bde",
   "metadata": {},
   "outputs": [
    {
     "name": "stdout",
     "output_type": "stream",
     "text": [
      "1\n",
      "13\n"
     ]
    }
   ],
   "source": [
    "def ack(x,y):\n",
    "    if x == 0:\n",
    "        return y+1\n",
    "    elif x > 0 and y == 0:\n",
    "        return ack(x-1,1)\n",
    "    else:\n",
    "        return ack(x-1,ack(x,y-1))\n",
    "\n",
    "print(ack(0,0))\n",
    "print(ack(4,0))\n",
    "\n",
    "# Inputing too large a number makes the result too large to represent, and thus the program cannot compute/show it."
   ]
  },
  {
   "cell_type": "code",
   "execution_count": 2,
   "id": "6124391a",
   "metadata": {},
   "outputs": [
    {
     "name": "stdout",
     "output_type": "stream",
     "text": [
      "Number: 100\n",
      "Is a power of: 10\n",
      "True\n",
      "Number: 53289\n",
      "Is a power of: 2\n",
      "False\n"
     ]
    }
   ],
   "source": [
    "def is_power():\n",
    "    a = float(input(\"Number: \"))\n",
    "    b = float(input(\"Is a power of: \"))\n",
    "    if (a % b == 0) and (((a/b) % b) == 0):\n",
    "        return True\n",
    "    else:\n",
    "        return False\n",
    "\n",
    "print(is_power())\n",
    "print(is_power())"
   ]
  }
 ],
 "metadata": {
  "kernelspec": {
   "display_name": "Python 3 (ipykernel)",
   "language": "python",
   "name": "python3"
  },
  "language_info": {
   "codemirror_mode": {
    "name": "ipython",
    "version": 3
   },
   "file_extension": ".py",
   "mimetype": "text/x-python",
   "name": "python",
   "nbconvert_exporter": "python",
   "pygments_lexer": "ipython3",
   "version": "3.9.13"
  }
 },
 "nbformat": 4,
 "nbformat_minor": 5
}
