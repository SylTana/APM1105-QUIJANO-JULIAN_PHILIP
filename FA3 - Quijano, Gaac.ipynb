{
 "cells": [
  {
   "cell_type": "code",
   "execution_count": 1,
   "id": "1967734f",
   "metadata": {},
   "outputs": [
    {
     "name": "stdout",
     "output_type": "stream",
     "text": [
      "1. The volume of a sphere with radius r is 4/3πr^3\n",
      "What is the volume of a sphere with radius 5?\n",
      "\n",
      "523.5987755982989\n"
     ]
    }
   ],
   "source": [
    "import math\n",
    "\n",
    "print(\"1. The volume of a sphere with radius r is 4/3πr^3\")\n",
    "print(\"What is the volume of a sphere with radius 5?\\n\")\n",
    "volume = (4/3)*(math.pi)*(5**3)\n",
    "print(volume)\n",
    "      \n",
    "      "
   ]
  },
  {
   "cell_type": "code",
   "execution_count": 5,
   "id": "4f8a9419",
   "metadata": {},
   "outputs": [
    {
     "name": "stdout",
     "output_type": "stream",
     "text": [
      "2. Suppose the cover price of a book is $24\n",
      "but bookstores get a 40% discount. Shipping costs $3 for the first copy and 75 cents for each additional copy.\n",
      "What is the total wholesale cost for 60 copies?\n",
      "\n",
      "$56.85\n"
     ]
    }
   ],
   "source": [
    "x = int(input(\"2. Suppose the cover price of a book is $\"))\n",
    "print(\"but bookstores get a 40% discount. Shipping costs $3 for the first copy and 75 cents for each additional copy.\") \n",
    "print(\"What is the total wholesale cost for 60 copies?\\n\")\n",
    "total_cost = (x*0.4)+(3+(.75*59))\n",
    "print(\"$\"+\"%.2f\"%total_cost)\n"
   ]
  },
  {
   "cell_type": "code",
   "execution_count": 21,
   "id": "ea22dd5f",
   "metadata": {},
   "outputs": [
    {
     "name": "stdout",
     "output_type": "stream",
     "text": [
      "3. If I leave my house at 6:52 am and run 1 mile at an easy pace (8:15 per mile), then 3 miles at tempo (7:12 per mile) and 1 mile at an easy pace again, what time do I get home for breakfast?\n",
      "You will get back at 7:30 AM\n"
     ]
    }
   ],
   "source": [
    "print(\"3. If I leave my house at 6:52 am and run 1 mile at an easy pace (8:15 per mile), then 3 miles at tempo (7:12 per mile) and 1 mile at an easy pace again, what time do I get home for breakfast?\")\n",
    "\n",
    "\n",
    "converted_initial_time = (6*60 + 52)*60\n",
    "converted_easy_pace = (8*60 +15)*2\n",
    "converted_tempo_pace = (7*60 + 12)*3\n",
    "breakfast_time_hours = (converted_easy_pace+converted_initial_time+converted_tempo_pace)/(60*60)\n",
    "breakfast_hour = int(breakfast_time_hours)\n",
    "breakfast_min = (breakfast_time_hours - breakfast_hour)*60\n",
    "breakfast_int_min = (int(breakfast_min))\n",
    "\n",
    "print(\"You will get back at\", str(breakfast_hour)+\":\"+str(breakfast_int_min),\"AM\")\n",
    "                    "
   ]
  },
  {
   "cell_type": "code",
   "execution_count": null,
   "id": "38556f17",
   "metadata": {},
   "outputs": [],
   "source": []
  }
 ],
 "metadata": {
  "kernelspec": {
   "display_name": "Python 3 (ipykernel)",
   "language": "python",
   "name": "python3"
  },
  "language_info": {
   "codemirror_mode": {
    "name": "ipython",
    "version": 3
   },
   "file_extension": ".py",
   "mimetype": "text/x-python",
   "name": "python",
   "nbconvert_exporter": "python",
   "pygments_lexer": "ipython3",
   "version": "3.9.13"
  }
 },
 "nbformat": 4,
 "nbformat_minor": 5
}
