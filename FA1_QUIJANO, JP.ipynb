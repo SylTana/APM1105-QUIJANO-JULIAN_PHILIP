{
 "cells": [
  {
   "cell_type": "code",
   "execution_count": 1,
   "id": "371508ee",
   "metadata": {},
   "outputs": [
    {
     "name": "stdout",
     "output_type": "stream",
     "text": [
      "1. How many seconds are there in 42 minutes and 42 seconds? \n",
      "2562 seconds\n",
      "\n",
      "2. How many miles are there in 10 kilometers? \n",
      "10 kilometers is = 6.21 miles\n",
      "\n",
      "3. If you run a 10 kilometer race in 42 minutes 42 seconds, what is your average pace time?\n",
      "What is your average speed in miles per hour?\n",
      "The average pace is: 6.87 min/mile\n",
      "The average speed is: 8.73 miles/hour\n"
     ]
    }
   ],
   "source": [
    "seconds = (42 * 60) + 42\n",
    "print(\"1. How many seconds are there in 42 minutes and 42 seconds? \")\n",
    "print(seconds, \"seconds\\n\")\n",
    "\n",
    "miles = 10 / 1.61\n",
    "print(\"2. How many miles are there in 10 kilometers? \")\n",
    "print(\"10 kilometers is =\", round(miles, 2), \"miles\\n\")\n",
    "\n",
    "min = seconds / 60\n",
    "hour = min / 60\n",
    "\n",
    "print(\"3. If you run a 10 kilometer race in 42 minutes 42 seconds, what is your average pace time?\")\n",
    "print(\"What is your average speed in miles per hour?\")\n",
    "pace = min / miles\n",
    "print(\"The average pace is:\", round(pace, 2), \"min/mile\")\n",
    "\n",
    "speed = miles / hour\n",
    "print(\"The average speed is:\", round(speed, 2), \"miles/hour\")\n",
    "\n",
    "\n"
   ]
  },
  {
   "cell_type": "code",
   "execution_count": null,
   "id": "bdb3982a",
   "metadata": {},
   "outputs": [],
   "source": []
  }
 ],
 "metadata": {
  "kernelspec": {
   "display_name": "Python 3 (ipykernel)",
   "language": "python",
   "name": "python3"
  },
  "language_info": {
   "codemirror_mode": {
    "name": "ipython",
    "version": 3
   },
   "file_extension": ".py",
   "mimetype": "text/x-python",
   "name": "python",
   "nbconvert_exporter": "python",
   "pygments_lexer": "ipython3",
   "version": "3.11.5"
  }
 },
 "nbformat": 4,
 "nbformat_minor": 5
}
