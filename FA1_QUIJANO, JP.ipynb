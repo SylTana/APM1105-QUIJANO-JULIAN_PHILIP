{
 "cells": [
  {
   "cell_type": "code",
   "execution_count": 41,
   "id": "d648f24f",
   "metadata": {},
   "outputs": [
    {
     "name": "stdout",
     "output_type": "stream",
     "text": [
      "1. How many seconds are there in 42 minutes and 42 seconds? \n",
      "2562 seconds\n",
      "\n"
     ]
    }
   ],
   "source": [
    "seconds = (42 * 60) + 42\n",
    "print(\"1. How many seconds are there in 42 minutes and 42 seconds? \")\n",
    "print(seconds, \"seconds\\n\")\n"
   ]
  },
  {
   "cell_type": "code",
   "execution_count": 42,
   "id": "7e36c83f",
   "metadata": {},
   "outputs": [
    {
     "name": "stdout",
     "output_type": "stream",
     "text": [
      "2. How many miles are there in 10 kilometers? \n",
      "10 kilometers is = 6.21 miles\n",
      "\n"
     ]
    }
   ],
   "source": [
    "miles = 10 / 1.61\n",
    "print(\"2. How many miles are there in 10 kilometers? \")\n",
    "print(\"10 kilometers is =\", round(miles, 2), \"miles\\n\")\n"
   ]
  },
  {
   "cell_type": "code",
   "execution_count": 43,
   "id": "88a33461",
   "metadata": {},
   "outputs": [
    {
     "name": "stdout",
     "output_type": "stream",
     "text": [
      "3. If you run a 10 kilometer race in 42 minutes 42 seconds, what is your average pace time?\n",
      "What is your average speed in miles per hour?\n",
      "The average pace is: 6 minutes 52 seconds.\n",
      "The average speed is: 8.73 miles/hour.\n"
     ]
    }
   ],
   "source": [
    "min = seconds / 60\n",
    "hour = min / 60\n",
    "pace = min / miles\n",
    "rpace = (pace-6) * 60\n",
    "speed = miles / hour\n",
    "\n",
    "print(\"3. If you run a 10 kilometer race in 42 minutes 42 seconds, what is your average pace time?\")\n",
    "print(\"What is your average speed in miles per hour?\")\n",
    "print(\"The average pace is: %d minutes %d seconds.\" %(pace, rpace))\n",
    "print(\"The average speed is:\", round(speed, 2), \"miles/hour.\")"
   ]
  }
 ],
 "metadata": {
  "kernelspec": {
   "display_name": "Python 3 (ipykernel)",
   "language": "python",
   "name": "python3"
  },
  "language_info": {
   "codemirror_mode": {
    "name": "ipython",
    "version": 3
   },
   "file_extension": ".py",
   "mimetype": "text/x-python",
   "name": "python",
   "nbconvert_exporter": "python",
   "pygments_lexer": "ipython3",
   "version": "3.9.13"
  }
 },
 "nbformat": 4,
 "nbformat_minor": 5
}
