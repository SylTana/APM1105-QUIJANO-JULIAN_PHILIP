{
 "cells": [
  {
   "cell_type": "code",
   "execution_count": null,
   "id": "00470b4c",
   "metadata": {},
   "outputs": [],
   "source": [
    "import turtle\n",
    "import random\n",
    "\n",
    "wn = turtle.Screen()\n",
    "wn.bgcolor('black')\n",
    "wn.title('Weiss')\n",
    "circle = turtle.Turtle()\n",
    "bounce = turtle.Turtle()\n",
    "\n",
    "\n",
    "def drawfence(border):\n",
    "    border.penup()\n",
    "    border.goto(0,-100)\n",
    "    border.hideturtle()\n",
    "    border.speed(0)\n",
    "    border.color('orchid')\n",
    "    border.pensize(5)\n",
    "    border.pendown()\n",
    "    border.circle(100)\n",
    "def inside(ball):\n",
    "    ball.penup()\n",
    "    ball.speed(0)\n",
    "    ball.goto(0, 0)\n",
    "    ball.pencolor('chocolate')\n",
    "    ball.shape('circle')\n",
    "    ball.setx(random.randrange(100//4, 100//2))\n",
    "    ball.sety(random.randrange(100//4, 100//2))\n",
    "    ball.setheading(random.randrange(0, 360))\n",
    "\n",
    "\n",
    "inside(bounce)\n",
    "bounce.speed(1)\n",
    "off = 1\n",
    "drawfence(circle)\n",
    "\n",
    "while off != 0:\n",
    "    bounce.forward(5)\n",
    "\n",
    "    if bounce.distance(0, 0) > 85:\n",
    "        first = bounce.heading()\n",
    "        angle = bounce.towards(0, 0)\n",
    "        final = 2 * angle - 180 - first\n",
    "        bounce.setheading(final)\n",
    "        bounce.forward(5)\n",
    "\n",
    "turtle.mainloop()"
   ]
  }
 ],
 "metadata": {
  "kernelspec": {
   "display_name": "Python 3 (ipykernel)",
   "language": "python",
   "name": "python3"
  },
  "language_info": {
   "codemirror_mode": {
    "name": "ipython",
    "version": 3
   },
   "file_extension": ".py",
   "mimetype": "text/x-python",
   "name": "python",
   "nbconvert_exporter": "python",
   "pygments_lexer": "ipython3",
   "version": "3.11.5"
  }
 },
 "nbformat": 4,
 "nbformat_minor": 5
}
